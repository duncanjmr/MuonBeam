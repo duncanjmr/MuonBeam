{
 "cells": [
  {
   "cell_type": "code",
   "execution_count": 1,
   "id": "294a22f9",
   "metadata": {},
   "outputs": [],
   "source": [
    "%matplotlib inline\n",
    "import matplotlib.pyplot as plt\n",
    "import numpy as np\n",
    "from lhereader import LHEReader"
   ]
  },
  {
   "cell_type": "code",
   "execution_count": 59,
   "id": "d73232d5",
   "metadata": {},
   "outputs": [],
   "source": [
    "# Helper Functions\n",
    "\n",
    "mag3 = lambda x: np.sqrt(np.sum(x**2))\n",
    "\n",
    "def form_factor(mom_transf, Z=82, A=207):\n",
    "    \n",
    "    me = 0.511*10 ** -3\n",
    "    \n",
    "    a = 111. * Z ** (-1./3) / me\n",
    "    ap = 773. * Z ** (-2./3) / me\n",
    "    #t = -(mom_transf[0]**2 - mag3(mom_transf[1:])**2)\n",
    "    #t = -(mom_transf[0]**2 - mag3(mom_transf[1:])**2)\n",
    "    t = mag3(mom_transf[1:])**2\n",
    "\n",
    "    d = 0.164 * A ** (-2./3)\n",
    "    mup = 2.79\n",
    "    mp = 0.931\n",
    "    \n",
    "    el = (a**2 * t / (1 + a**2 * t))**2 * Z **2 * (1./(1+t/d))**2\n",
    "    \n",
    "    inel = ( (ap**2 * t / (1 + ap**2 * t)) ** 2 * Z * \n",
    "             ( (1 + t * (mup**2 - 1) / (4 * mp **2 )) / (1 + t / 0.71)**4) ** 2 ) \n",
    "    \n",
    "    return el + inel\n",
    "\n",
    "\n",
    "def getUnweightedCrossSection(fname):\n",
    "    \"\"\"\n",
    "    Reads the unweighted MC cross section from .lhe file\n",
    "    \"\"\"\n",
    "    with open(fname) as f:\n",
    "        s=f.read()\n",
    "        ind = s.find('<crossSection unit=\"pb\">')\n",
    "        if ind == -1:\n",
    "            return np.nan\n",
    "        ind1=s.find(\"</crossSection>\", ind)\n",
    "        val = float(s[ind+24:ind1])\n",
    "    return val"
   ]
  },
  {
   "cell_type": "code",
   "execution_count": 60,
   "id": "43451035",
   "metadata": {},
   "outputs": [],
   "source": [
    "lhe_filename = \"muonphillic/batch_results/scalar_bremmstrahlung-single.lhe\""
   ]
  },
  {
   "cell_type": "code",
   "execution_count": 69,
   "id": "e2e82760",
   "metadata": {},
   "outputs": [
    {
     "name": "stdout",
     "output_type": "stream",
     "text": [
      "Cross section after form factor weighting: 14.802\n"
     ]
    }
   ],
   "source": [
    "#f = \"/home/duncan/Software/madgraph3.2/bin/DARK_BREMMSTRAHLUNG_2/Events/run_01/unweighted_events.lhe\"\n",
    "f = \"./muonphillic/batch_results/scalar_bremmstrahlung-single.lhe\"\n",
    "\n",
    "r = LHEReader(f)\n",
    "\n",
    "cx0 = getUnweightedCrossSection(f)\n",
    "\n",
    "E_S_frac = [];\n",
    "mom_tr = [];\n",
    "weights = [];\n",
    "mom_tr_est = [];\n",
    "\n",
    "\n",
    "nrej = 0\n",
    "ntot = 0\n",
    "for iev, event in enumerate(r):\n",
    "    \n",
    "    # The 5000001 and 5000002 pdg codes were custom labels for the model I made with feynrules\n",
    "\n",
    "    for p in event.particles:\n",
    "        if p.pdgid == 13 and p.status == 1:\n",
    "            mu_out = np.array([p.energy, p.px, p.py, p.pz])\n",
    "        if p.pdgid == 13 and p.status == -1:\n",
    "            mu_in = np.array([p.energy, p.px, p.py, p.pz])\n",
    "        if p.pdgid == 5000001:\n",
    "            s0 = np.array([p.energy, p.px, p.py, p.pz])\n",
    "        if p.pdgid == 5000002 and p.status == 1:\n",
    "            n0 = np.array([p.energy, p.px, p.py, p.pz])\n",
    "        if p.pdgid == 5000002 and p.status == -1:\n",
    "            n_init = np.array([p.energy, p.px, p.py, p.pz])\n",
    "    \n",
    "    ntot += 1\n",
    "    mom_transfer = s0 + mu_out - mu_in\n",
    "    \n",
    "    weights.append(form_factor(mom_transfer, Z=26, A=56))\n",
    "    E_S_frac.append(s0[0]/mu_in[0])\n",
    "\n",
    "weights = np.array(weights)\n",
    "\n",
    "cx = sum(weights) / ntot * cx0 \n",
    "print(\"Cross section after form factor weighting: %.3f\" % cx)"
   ]
  },
  {
   "cell_type": "code",
   "execution_count": 62,
   "id": "7cb78211",
   "metadata": {},
   "outputs": [
    {
     "data": {
      "text/plain": [
       "Text(0, 0.5, '$\\\\frac{1}{\\\\sigma} \\\\frac{d\\\\sigma}{dx}$')"
      ]
     },
     "execution_count": 62,
     "metadata": {},
     "output_type": "execute_result"
    },
    {
     "data": {
      "image/png": "[encoded data removed]",
      "text/plain": [
       "<Figure size 432x288 with 1 Axes>"
      ]
     },
     "metadata": {
      "needs_background": "light"
     },
     "output_type": "display_data"
    }
   ],
   "source": [
    "nbins = 50\n",
    "c,b,_ = plt.hist(E_S_frac, bins=np.linspace(0,1,nbins+1), weights=weights/sum(weights)*50);\n",
    "plt.xlabel(\"$x = E_{Scalar} / E_{beam}$\", fontsize=14)\n",
    "plt.ylabel(r\"$\\frac{1}{\\sigma} \\frac{d\\sigma}{dx}$\", fontsize=16)"
   ]
  }
 ],
 "metadata": {
  "kernelspec": {
   "display_name": "Python 3 (ipykernel)",
   "language": "python",
   "name": "python3"
  },
  "language_info": {
   "codemirror_mode": {
    "name": "ipython",
    "version": 3
   },
   "file_extension": ".py",
   "mimetype": "text/x-python",
   "name": "python",
   "nbconvert_exporter": "python",
   "pygments_lexer": "ipython3",
   "version": "3.8.10"
  }
 },
 "nbformat": 4,
 "nbformat_minor": 5
}
